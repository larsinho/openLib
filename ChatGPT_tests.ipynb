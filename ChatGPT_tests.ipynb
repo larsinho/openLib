{
  "cells": [
    {
      "cell_type": "markdown",
      "metadata": {
        "id": "view-in-github",
        "colab_type": "text"
      },
      "source": [
        "<a href=\"https://colab.research.google.com/github/larsinho/openLib/blob/main/ChatGPT_tests.ipynb\" target=\"_parent\"><img src=\"https://colab.research.google.com/assets/colab-badge.svg\" alt=\"Open In Colab\"/></a>"
      ]
    },
    {
      "cell_type": "markdown",
      "source": [
        "# ChatGPT experiment"
      ],
      "metadata": {
        "id": "wqDcFEPv29ou"
      },
      "id": "wqDcFEPv29ou"
    },
    {
      "cell_type": "markdown",
      "source": [
        "### Importing ChatGPT module and dependencies to parse pdf \n"
      ],
      "metadata": {
        "id": "SNCgBvx6Mx2O"
      },
      "id": "SNCgBvx6Mx2O"
    },
    {
      "cell_type": "code",
      "source": [
        "#!pip install pdfminer\n",
        "#!pip install regex \n",
        "#!pip install openai\n",
        "#!pip install python-dotenv"
      ],
      "metadata": {
        "id": "WTCgtaXRby08"
      },
      "id": "WTCgtaXRby08",
      "execution_count": null,
      "outputs": []
    },
    {
      "cell_type": "code",
      "execution_count": null,
      "id": "95fa764c",
      "metadata": {
        "id": "95fa764c"
      },
      "outputs": [],
      "source": [
        "# Packages to extract text from pdf\n",
        "from io import StringIO\n",
        "from pdfminer.converter import TextConverter\n",
        "from pdfminer.layout import LAParams\n",
        "from pdfminer.pdfdocument import PDFDocument\n",
        "from pdfminer.pdfinterp import PDFResourceManager, PDFPageInterpreter\n",
        "from pdfminer.pdfpage import PDFPage\n",
        "from pdfminer.pdfparser import PDFParser\n",
        "# Regex libary\n",
        "import re"
      ]
    },
    {
      "cell_type": "code",
      "source": [
        "# OpenAI library\n",
        "import openai \n",
        "# Getting API key from local file:\n",
        "import os\n",
        "from dotenv import load_dotenv\n",
        "load_dotenv()\n",
        "API_KEY = os.getenv('API_KEY')\n",
        "openai.api_key = API_KEY"
      ],
      "metadata": {
        "id": "5JypmjrDbaux"
      },
      "id": "5JypmjrDbaux",
      "execution_count": null,
      "outputs": []
    },
    {
      "cell_type": "markdown",
      "id": "9d40288f",
      "metadata": {
        "id": "9d40288f"
      },
      "source": [
        "### Responsible Investment pdf - cleaning text"
      ]
    },
    {
      "cell_type": "code",
      "execution_count": null,
      "id": "67e5ed3b",
      "metadata": {
        "id": "67e5ed3b"
      },
      "outputs": [],
      "source": [
        "output_string = StringIO()\n",
        "with open('responsible-investment-2022.pdf', 'rb') as in_file:\n",
        "    parser = PDFParser(in_file)\n",
        "    doc = PDFDocument(parser)\n",
        "    rsrcmgr = PDFResourceManager()\n",
        "    device = TextConverter(rsrcmgr, output_string, laparams=LAParams())\n",
        "    interpreter = PDFPageInterpreter(rsrcmgr, device)\n",
        "    for page in PDFPage.create_pages(doc):\n",
        "        interpreter.process_page(page)\n",
        "\n",
        "result = output_string.getvalue()"
      ]
    },
    {
      "cell_type": "code",
      "execution_count": null,
      "id": "7356bd32",
      "metadata": {
        "id": "7356bd32"
      },
      "outputs": [],
      "source": [
        "# Filter out uneccessary values in text (navigation links)\n",
        "def find_between(s, first, last):\n",
        "    try:\n",
        "        regex = rf'{first}(.*?){last}'\n",
        "        return re.findall(regex, s)\n",
        "    except ValueError:\n",
        "        return -1\n",
        "\n",
        "intro_text = result[1600:6000] # subset based on intro pages    \n",
        "found_values = find_between(intro_text,\"\\n\", \"\\n\")\n",
        "filtered_values = str()\n",
        "for item in found_values:\n",
        "    if len(item.split()) < 2:\n",
        "        pass\n",
        "    else:\n",
        "        filtered_values += item"
      ]
    },
    {
      "cell_type": "code",
      "execution_count": null,
      "id": "230f74ae",
      "metadata": {
        "colab": {
          "base_uri": "https://localhost:8080/"
        },
        "id": "230f74ae",
        "outputId": "8c7fde70-4a40-4caa-f616-0a549414e659"
      },
      "outputs": [
        {
          "output_type": "stream",
          "name": "stdout",
          "text": [
            "2022 was a challenging year for the companies we crisis and the pandemic made it an extraordinary year. and ensure that their business model is sustainable. As a shareholder, we depend on boards doing their job. Strong boards that creation. This means that the CEO and chair should not be the same person. have enough time to do their job. These are pillars of good governance.Director elections allow us to hold the board to account. In 2022, we voted climate change. The energy transition is a defining economic opportunity. an investor, we have a financial interest in speaking up. We reviewed our voting policy on excessive CEO remuneration in 2022. many instances, this was not driven by long-term value creation. We want to we communicated this clearly in our dialogue with companies.ESG was increasingly portrayed as political during the year. We find this consequences of their operations, pursue opportunities and address risks. common sense. We integrate ESG considerations into our analyses in order As shareholders we doing their job.Oslo, 9 February 2023 Nicolai Tangen 2022 was a year marked by both high activity investment work. We became even more transparent, and we reported more on the outcomes of our work. the fund’s long-term value creation. We launched our 2025 Climate action strengthening portfolio climate risk resilience, and effectively engaging companies towards net zero emissions by 2050.  During the year, we held 2,911 company meetings, voted on 117,392 processes. In our dialogue with companies, we emphasise strong corporate risks and opportunities. In addition to climate, key themes included of expectations on human capital management. How companies invest in of our efforts. A good example is that our engagement with companies on were also delighted to see the creation of the International Sustainability on sustainability. Improved ESG data will benefit both our investment people – on our responsible investment activities. This report provides evolving field. I hope you find it interesting.Climate change was also in 2022.Oslo, 9 February 2023Carine Smith Ihenacho Compliance OfficerGovernment Pension Fund GlobalResponsible investment 2022\fHow we work\n"
          ]
        }
      ],
      "source": [
        "print(filtered_values)"
      ]
    },
    {
      "cell_type": "markdown",
      "source": [
        "## ChatGPT model"
      ],
      "metadata": {
        "id": "4e9c9f7a"
      },
      "id": "4e9c9f7a"
    },
    {
      "cell_type": "code",
      "source": [
        "promt = f\"Summarize the following text in 200 words: '{filtered_values}' \\n\" \n",
        "print(promt)"
      ],
      "metadata": {
        "colab": {
          "base_uri": "https://localhost:8080/"
        },
        "id": "19gPwU5alzLr",
        "outputId": "d8695e93-f346-45f0-d103-26c0f204bbec"
      },
      "id": "19gPwU5alzLr",
      "execution_count": null,
      "outputs": [
        {
          "output_type": "stream",
          "name": "stdout",
          "text": [
            "Summarize the following text in 200 words: '2022 was a challenging year for the companies we crisis and the pandemic made it an extraordinary year. and ensure that their business model is sustainable. As a shareholder, we depend on boards doing their job. Strong boards that creation. This means that the CEO and chair should not be the same person. have enough time to do their job. These are pillars of good governance.Director elections allow us to hold the board to account. In 2022, we voted climate change. The energy transition is a defining economic opportunity. an investor, we have a financial interest in speaking up. We reviewed our voting policy on excessive CEO remuneration in 2022. many instances, this was not driven by long-term value creation. We want to we communicated this clearly in our dialogue with companies.ESG was increasingly portrayed as political during the year. We find this consequences of their operations, pursue opportunities and address risks. common sense. We integrate ESG considerations into our analyses in order As shareholders we doing their job.Oslo, 9 February 2023 Nicolai Tangen 2022 was a year marked by both high activity investment work. We became even more transparent, and we reported more on the outcomes of our work. the fund’s long-term value creation. We launched our 2025 Climate action strengthening portfolio climate risk resilience, and effectively engaging companies towards net zero emissions by 2050.  During the year, we held 2,911 company meetings, voted on 117,392 processes. In our dialogue with companies, we emphasise strong corporate risks and opportunities. In addition to climate, key themes included of expectations on human capital management. How companies invest in of our efforts. A good example is that our engagement with companies on were also delighted to see the creation of the International Sustainability on sustainability. Improved ESG data will benefit both our investment people – on our responsible investment activities. This report provides evolving field. I hope you find it interesting.Climate change was also in 2022.Oslo, 9 February 2023Carine Smith Ihenacho Compliance OfficerGovernment Pension Fund GlobalResponsible investment 2022\fHow we work' \n",
            "\n"
          ]
        }
      ]
    },
    {
      "cell_type": "code",
      "execution_count": null,
      "id": "34ad9049",
      "metadata": {
        "colab": {
          "base_uri": "https://localhost:8080/"
        },
        "id": "34ad9049",
        "outputId": "dbf73190-981d-4d10-830b-f3da088b3cf6"
      },
      "outputs": [
        {
          "output_type": "stream",
          "name": "stdout",
          "text": [
            "{\n",
            "  \"choices\": [\n",
            "    {\n",
            "      \"finish_reason\": \"stop\",\n",
            "      \"index\": 0,\n",
            "      \"logprobs\": null,\n",
            "      \"text\": \"\\n2022 was a tumultuous year for companies with an unprecedented crisis and the public health and economic implications of pandemic. In order to survive, companies needed to ensure their business models were sustainable. The Norwegian Government Pension Fund Global (GPFG) understands that strong boards of directors are vital to ensure long-term value creation and hence works to ensure independent directors have adequate time to do their job and form the pillars of good governance. In 2022, directors were elected and climate change was a particular important topic for the fund. With an identified financial interest, the fund revised its voting policy on excessive CEO remuneration in the year. Across their engagements with companies, the fund communicated its goal of integrating environmental, social, and governance (ESG) considerations into their analyses. In addition to climate related topics, dialogue with companies focussed on human capital management and how companies can invest in it. With 2,911 company meetings, 117,392 votes and heightened transparency, the fund sought to better understand and engage with companies on climate risks, net zero emissions and long-term value creation.Aligned with international standards, GPFG launched their 2025 Climate Action Plan with the aim of strengthening portfolio climate risk resilience and developing better ESG data. Additionally, the fund enhanced their responsible investment activities and proudly reported outcomes of the work to stakeholders. In conclusion, GPFG understand their role as shareholders and the necessity their unique power gives them to work for an equal and sustainable future, and are proud of the efforts to pursue this in 2022.\"\n",
            "    }\n",
            "  ],\n",
            "  \"created\": 1677003057,\n",
            "  \"id\": \"cmpl-6mROLyZZrIhpbuy6rNObj6VbrAX6G\",\n",
            "  \"model\": \"text-davinci-003\",\n",
            "  \"object\": \"text_completion\",\n",
            "  \"usage\": {\n",
            "    \"completion_tokens\": 305,\n",
            "    \"prompt_tokens\": 439,\n",
            "    \"total_tokens\": 744\n",
            "  }\n",
            "}\n"
          ]
        }
      ],
      "source": [
        "model = \"text-davinci-003\"\n",
        "\n",
        "response = openai.Completion.create(\n",
        "  model = model,\n",
        "  prompt = promt,\n",
        "  max_tokens = 1000 \n",
        "  #temperature = 0.7\n",
        "  #top_p = 0.9\n",
        ")\n",
        "print(response)"
      ]
    },
    {
      "cell_type": "code",
      "execution_count": null,
      "id": "77bb229d",
      "metadata": {
        "colab": {
          "base_uri": "https://localhost:8080/"
        },
        "id": "77bb229d",
        "outputId": "6aa81dd5-8a74-48f9-a018-8b3346932948"
      },
      "outputs": [
        {
          "output_type": "stream",
          "name": "stdout",
          "text": [
            "\n",
            "2022 was a tumultuous year for companies with an unprecedented crisis and the public health and economic implications of pandemic. In order to survive, companies needed to ensure their business models were sustainable. The Norwegian Government Pension Fund Global (GPFG) understands that strong boards of directors are vital to ensure long-term value creation and hence works to ensure independent directors have adequate time to do their job and form the pillars of good governance. In 2022, directors were elected and climate change was a particular important topic for the fund. With an identified financial interest, the fund revised its voting policy on excessive CEO remuneration in the year. Across their engagements with companies, the fund communicated its goal of integrating environmental, social, and governance (ESG) considerations into their analyses. In addition to climate related topics, dialogue with companies focussed on human capital management and how companies can invest in it. With 2,911 company meetings, 117,392 votes and heightened transparency, the fund sought to better understand and engage with companies on climate risks, net zero emissions and long-term value creation.Aligned with international standards, GPFG launched their 2025 Climate Action Plan with the aim of strengthening portfolio climate risk resilience and developing better ESG data. Additionally, the fund enhanced their responsible investment activities and proudly reported outcomes of the work to stakeholders. In conclusion, GPFG understand their role as shareholders and the necessity their unique power gives them to work for an equal and sustainable future, and are proud of the efforts to pursue this in 2022.\n"
          ]
        }
      ],
      "source": [
        "print(response.choices[0].text)\n"
      ]
    },
    {
      "cell_type": "code",
      "execution_count": null,
      "id": "b57be91c",
      "metadata": {
        "id": "b57be91c"
      },
      "outputs": [],
      "source": []
    },
    {
      "cell_type": "code",
      "source": [],
      "metadata": {
        "id": "B5PGcrAofgPC"
      },
      "id": "B5PGcrAofgPC",
      "execution_count": null,
      "outputs": []
    }
  ],
  "metadata": {
    "kernelspec": {
      "display_name": "Python 3 (ipykernel)",
      "language": "python",
      "name": "python3"
    },
    "language_info": {
      "codemirror_mode": {
        "name": "ipython",
        "version": 3
      },
      "file_extension": ".py",
      "mimetype": "text/x-python",
      "name": "python",
      "nbconvert_exporter": "python",
      "pygments_lexer": "ipython3",
      "version": "3.7.6"
    },
    "colab": {
      "provenance": [],
      "include_colab_link": true
    }
  },
  "nbformat": 4,
  "nbformat_minor": 5
}